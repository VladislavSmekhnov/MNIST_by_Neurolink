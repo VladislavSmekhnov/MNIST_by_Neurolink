{
  "nbformat": 4,
  "nbformat_minor": 0,
  "metadata": {
    "colab": {
      "name": "MNIST Digit Recognizer.ipynb",
      "provenance": [],
      "collapsed_sections": [],
      "authorship_tag": "ABX9TyNI6rGILeNASaJwoHtJTlsB",
      "include_colab_link": true
    },
    "kernelspec": {
      "name": "python3",
      "display_name": "Python 3"
    },
    "language_info": {
      "name": "python"
    },
    "accelerator": "GPU"
  },
  "cells": [
    {
      "cell_type": "markdown",
      "metadata": {
        "id": "view-in-github",
        "colab_type": "text"
      },
      "source": [
        "<a href=\"https://colab.research.google.com/github/VladislavSmekhnov/MNIST-by-Neurolink/blob/main/MNIST_Digit_Recognizer.ipynb\" target=\"_parent\"><img src=\"https://colab.research.google.com/assets/colab-badge.svg\" alt=\"Open In Colab\"/></a>"
      ]
    },
    {
      "cell_type": "markdown",
      "source": [
        "# Imports of libraries"
      ],
      "metadata": {
        "id": "DBYAr5WhBsvq"
      }
    },
    {
      "cell_type": "code",
      "source": [
        "import numpy as np\n",
        "import matplotlib.pyplot as plt\n",
        "%matplotlib inline\n",
        "import keras\n",
        "from keras.models import Sequential\n",
        "from keras.layers import Dense, Dropout\n",
        "from keras import utils as np_utils\n",
        "from sklearn.metrics import confusion_matrix\n",
        "import seaborn as sns\n",
        "\n",
        "np.random.seed(0)"
      ],
      "metadata": {
        "id": "ffAE6Xt8BwRw"
      },
      "execution_count": null,
      "outputs": []
    },
    {
      "cell_type": "markdown",
      "source": [
        "# Load data"
      ],
      "metadata": {
        "id": "ifgUv7sIEkTU"
      }
    },
    {
      "cell_type": "code",
      "source": [
        "from keras.datasets import mnist\n",
        "(x_train, y_train), (x_test, y_test) = mnist.load_data()"
      ],
      "metadata": {
        "id": "LLf8JcAnEonS"
      },
      "execution_count": null,
      "outputs": []
    },
    {
      "cell_type": "code",
      "source": [
        "print(x_train.shape, y_train.shape)\n",
        "print(x_test.shape, y_test.shape)"
      ],
      "metadata": {
        "colab": {
          "base_uri": "https://localhost:8080/"
        },
        "id": "-iQ8fcDEE79D",
        "outputId": "56e3c5eb-d53a-4661-ff99-8b991e558267"
      },
      "execution_count": null,
      "outputs": [
        {
          "output_type": "stream",
          "name": "stdout",
          "text": [
            "(60000, 28, 28) (60000,)\n",
            "(10000, 28, 28) (10000,)\n"
          ]
        }
      ]
    },
    {
      "cell_type": "markdown",
      "source": [
        "# Examples's visualization"
      ],
      "metadata": {
        "id": "qwugEABKFhAA"
      }
    },
    {
      "cell_type": "code",
      "source": [
        "num_classes = 10\n",
        "f, axis = plt.subplots(1, num_classes, figsize = (20,20))\n",
        "\n",
        "for i in range(0, num_classes):\n",
        "  sample = x_train[y_train == i][0]\n",
        "  axis[i].imshow(sample, cmap='gray')\n",
        "  axis[i].set_title(\"Label: {}\".format(i), fontsize = 18)"
      ],
      "metadata": {
        "colab": {
          "base_uri": "https://localhost:8080/",
          "height": 162
        },
        "id": "KIEIKH0rGfns",
        "outputId": "761237f7-5328-445c-e61f-5c5a2a3bdd4d"
      },
      "execution_count": null,
      "outputs": [
        {
          "output_type": "display_data",
          "data": {
            "image/png": "[encoded data removed]",
            "text/plain": [
              "<Figure size 1440x1440 with 10 Axes>"
            ]
          },
          "metadata": {
            "needs_background": "light"
          }
        }
      ]
    },
    {
      "cell_type": "code",
      "source": [
        "y_train = keras.utils.np_utils.to_categorical(y_train, num_classes)\n",
        "y_test = keras.utils.np_utils.to_categorical(y_test, num_classes)"
      ],
      "metadata": {
        "id": "9S5BAIIwVet3"
      },
      "execution_count": null,
      "outputs": []
    },
    {
      "cell_type": "markdown",
      "source": [
        "# Prepare data"
      ],
      "metadata": {
        "id": "lsZBlBqWLv9N"
      }
    },
    {
      "cell_type": "code",
      "source": [
        "# Normalizing data\n",
        "x_train = x_train / 255.0\n",
        "x_test = x_test / 255.0"
      ],
      "metadata": {
        "id": "y3sAtpffHgb7"
      },
      "execution_count": null,
      "outputs": []
    },
    {
      "cell_type": "code",
      "source": [
        "# Reshaping data\n",
        "x_train = x_train.reshape(x_train.shape[0], -1)\n",
        "x_test = x_test.reshape(x_test.shape[0], -1)\n",
        "print(x_train.shape)"
      ],
      "metadata": {
        "colab": {
          "base_uri": "https://localhost:8080/"
        },
        "id": "MupHdXB8MHaQ",
        "outputId": "ab8768c3-0cda-49f0-8bfb-45dab387bea1"
      },
      "execution_count": null,
      "outputs": [
        {
          "output_type": "stream",
          "name": "stdout",
          "text": [
            "(60000, 784)\n"
          ]
        }
      ]
    },
    {
      "cell_type": "markdown",
      "source": [
        "# Creating model - Fully connected Neural Network"
      ],
      "metadata": {
        "id": "dGMCjvr1Mu43"
      }
    },
    {
      "cell_type": "code",
      "source": [
        "model = Sequential()\n",
        "\n",
        "model.add(Dense(units = 128, input_shape = (784,), activation='relu'))\n",
        "model.add(Dense(units = 128, activation = 'relu'))\n",
        "model.add(Dropout(0.25)) # 25% of neuros are deactivated during the training\n",
        "                         # to prevent overfitting from the network\n",
        "model.add(Dense(units = 10, activation='softmax'))\n",
        "\n",
        "model.compile(loss='categorical_crossentropy', optimizer='adam', metrics=['accuracy'])\n",
        "model.summary()"
      ],
      "metadata": {
        "colab": {
          "base_uri": "https://localhost:8080/"
        },
        "id": "ajCPrtyPMjo5",
        "outputId": "7b151efb-9557-46f7-aea3-ec861273f22d"
      },
      "execution_count": null,
      "outputs": [
        {
          "output_type": "stream",
          "name": "stdout",
          "text": [
            "Model: \"sequential_1\"\n",
            "_________________________________________________________________\n",
            " Layer (type)                Output Shape              Param #   \n",
            "=================================================================\n",
            " dense_3 (Dense)             (None, 128)               100480    \n",
            "                                                                 \n",
            " dense_4 (Dense)             (None, 128)               16512     \n",
            "                                                                 \n",
            " dropout_1 (Dropout)         (None, 128)               0         \n",
            "                                                                 \n",
            " dense_5 (Dense)             (None, 10)                1290      \n",
            "                                                                 \n",
            "=================================================================\n",
            "Total params: 118,282\n",
            "Trainable params: 118,282\n",
            "Non-trainable params: 0\n",
            "_________________________________________________________________\n"
          ]
        }
      ]
    },
    {
      "cell_type": "markdown",
      "source": [
        "# Training"
      ],
      "metadata": {
        "id": "DkXYpGPBPe-u"
      }
    },
    {
      "cell_type": "code",
      "source": [
        "batch_size = 512\n",
        "epochs = 10\n",
        "model.fit(x = x_train, y = y_train, batch_size = batch_size, epochs = epochs)"
      ],
      "metadata": {
        "colab": {
          "base_uri": "https://localhost:8080/"
        },
        "id": "qu68zD2CPP1W",
        "outputId": "8a967890-86c4-4cf6-8b11-65263378574a"
      },
      "execution_count": null,
      "outputs": [
        {
          "output_type": "stream",
          "name": "stdout",
          "text": [
            "Epoch 1/10\n",
            "118/118 [==============================] - 2s 5ms/step - loss: 0.6118 - accuracy: 0.8204\n",
            "Epoch 2/10\n",
            "118/118 [==============================] - 1s 5ms/step - loss: 0.2238 - accuracy: 0.9356\n",
            "Epoch 3/10\n",
            "118/118 [==============================] - 1s 5ms/step - loss: 0.1602 - accuracy: 0.9534\n",
            "Epoch 4/10\n",
            "118/118 [==============================] - 1s 5ms/step - loss: 0.1293 - accuracy: 0.9622\n",
            "Epoch 5/10\n",
            "118/118 [==============================] - 1s 5ms/step - loss: 0.1074 - accuracy: 0.9688\n",
            "Epoch 6/10\n",
            "118/118 [==============================] - 1s 5ms/step - loss: 0.0898 - accuracy: 0.9724\n",
            "Epoch 7/10\n",
            "118/118 [==============================] - 1s 5ms/step - loss: 0.0769 - accuracy: 0.9774\n",
            "Epoch 8/10\n",
            "118/118 [==============================] - 1s 5ms/step - loss: 0.0683 - accuracy: 0.9800\n",
            "Epoch 9/10\n",
            "118/118 [==============================] - 1s 5ms/step - loss: 0.0606 - accuracy: 0.9820\n",
            "Epoch 10/10\n",
            "118/118 [==============================] - 1s 5ms/step - loss: 0.0513 - accuracy: 0.9847\n"
          ]
        },
        {
          "output_type": "execute_result",
          "data": {
            "text/plain": [
              "<keras.callbacks.History at 0x7fdd2b9b9e90>"
            ]
          },
          "metadata": {},
          "execution_count": 26
        }
      ]
    },
    {
      "cell_type": "markdown",
      "source": [
        "# Evaluation"
      ],
      "metadata": {
        "id": "1IB86i_eXtoJ"
      }
    },
    {
      "cell_type": "code",
      "source": [
        "test_loss, test_acc = model.evaluate(x_test, y_test)\n",
        "print(\"Test loss: {}, Test accuracy: {}\".format(test_loss, test_acc))"
      ],
      "metadata": {
        "colab": {
          "base_uri": "https://localhost:8080/"
        },
        "id": "47LVNXpIP_aA",
        "outputId": "4b28daf7-a9a6-4688-b19d-f1673e87f37a"
      },
      "execution_count": null,
      "outputs": [
        {
          "output_type": "stream",
          "name": "stdout",
          "text": [
            "313/313 [==============================] - 2s 4ms/step - loss: 0.0716 - accuracy: 0.9771\n",
            "Test loss: 0.07163938879966736, Test accuracy: 0.9771000146865845\n"
          ]
        }
      ]
    },
    {
      "cell_type": "code",
      "source": [
        "y_predict = model.predict(x_test)\n",
        "y_predict_classes = np.argmax(y_predict, axis = 1)\n",
        "print(y_predict_classes) # from highest probability -> to lowest"
      ],
      "metadata": {
        "colab": {
          "base_uri": "https://localhost:8080/"
        },
        "id": "MVxhSX8OYyF0",
        "outputId": "d415029c-d22c-46c8-9e2a-9a13a769e02b"
      },
      "execution_count": null,
      "outputs": [
        {
          "output_type": "stream",
          "name": "stdout",
          "text": [
            "[7 2 1 ... 4 5 6]\n"
          ]
        }
      ]
    },
    {
      "cell_type": "code",
      "source": [
        "#Single example\n",
        "\n",
        "random_index = np.random.choice(len(x_test))\n",
        "x_sample = x_test[random_index]\n",
        "y_true = np.argmax(y_test, axis = 1)\n",
        "y_sample_true = y_true[random_index]\n",
        "y_sample_prediction_class = y_predict_classes[random_index]\n",
        "\n",
        "plt.title(\"Predicted: {}, True: {},\".format(y_sample_prediction_class, y_sample_true), fontsize = 18)\n",
        "plt.imshow(x_sample.reshape(28, 28), cmap='gray')"
      ],
      "metadata": {
        "colab": {
          "base_uri": "https://localhost:8080/",
          "height": 302
        },
        "id": "VsFNiZ24Z0EI",
        "outputId": "757ca9be-9a71-4f1e-8124-a27de2d39a55"
      },
      "execution_count": null,
      "outputs": [
        {
          "output_type": "execute_result",
          "data": {
            "text/plain": [
              "<matplotlib.image.AxesImage at 0x7fdd25b1ced0>"
            ]
          },
          "metadata": {},
          "execution_count": 38
        },
        {
          "output_type": "display_data",
          "data": {
            "image/png": "[encoded data removed]",
            "text/plain": [
              "<Figure size 432x288 with 1 Axes>"
            ]
          },
          "metadata": {
            "needs_background": "light"
          }
        }
      ]
    },
    {
      "cell_type": "markdown",
      "source": [
        "# Confusion matrix"
      ],
      "metadata": {
        "id": "1F3svIZTbpeo"
      }
    },
    {
      "cell_type": "code",
      "source": [
        "confusion_mtx = confusion_matrix(y_true, y_predict_classes)\n",
        "\n",
        "# Plot\n",
        "\n",
        "fig, axis = plt.subplots(figsize =(15, 10))\n",
        "axis = sns.heatmap(confusion_mtx, annot = True, fmt = 'd', ax = axis, cmap='Blues')\n",
        "axis.set_xlabel('Predicted label')\n",
        "axis.set_ylabel('True label')\n",
        "axis.set_title('Confusion Matrix')"
      ],
      "metadata": {
        "colab": {
          "base_uri": "https://localhost:8080/",
          "height": 638
        },
        "id": "a_RxzuG9bKj3",
        "outputId": "f6c63a59-dc51-4c63-a162-f7b0402493bf"
      },
      "execution_count": null,
      "outputs": [
        {
          "output_type": "execute_result",
          "data": {
            "text/plain": [
              "Text(0.5, 1.0, 'Confusion Matrix')"
            ]
          },
          "metadata": {},
          "execution_count": 48
        },
        {
          "output_type": "display_data",
          "data": {
            "image/png": "[encoded data removed]",
            "text/plain": [
              "<Figure size 1080x720 with 2 Axes>"
            ]
          },
          "metadata": {
            "needs_background": "light"
          }
        }
      ]
    },
    {
      "cell_type": "markdown",
      "source": [
        "# Investigating errors"
      ],
      "metadata": {
        "id": "VcP8NAc8ee3L"
      }
    },
    {
      "cell_type": "code",
      "source": [
        "errors = (y_predict_classes - y_true != 0)\n",
        "y_perdict_classes_errors = y_predict_classes[errors]\n",
        "y_predict_errors = y_predict[errors]\n",
        "y_true_errors = y_true[errors]\n",
        "x_test_errors = x_test[errors]"
      ],
      "metadata": {
        "id": "kN_ccfKgdUUQ"
      },
      "execution_count": null,
      "outputs": []
    },
    {
      "cell_type": "code",
      "source": [
        "y_predict_errors_probability = np.max(y_predict_errors, axis = 1)\n",
        "true_probability_errors = np.diagonal(np.take(y_predict_errors, y_true_errors, axis = 1))\n",
        "diff_errors_pred_true = y_predict_errors_probability - true_probability_errors\n",
        "\n",
        "# Get list of indices of sorted differences\n",
        "\n",
        "sorted_index_diff_errors = np.argsort(diff_errors_pred_true)\n",
        "top_index_diff_errors = sorted_index_diff_errors[-5:] # get 5 last ones"
      ],
      "metadata": {
        "id": "PV_E98vufVqm"
      },
      "execution_count": null,
      "outputs": []
    },
    {
      "cell_type": "markdown",
      "source": [
        "# Show top errors"
      ],
      "metadata": {
        "id": "XeJWKvWMg7hU"
      }
    },
    {
      "cell_type": "code",
      "source": [
        "num = len(top_index_diff_errors)\n",
        "f, axis = plt.subplots(1, num, figsize=(30, 30))\n",
        "\n",
        "for i in range(0, num):\n",
        "  index = top_index_diff_errors[i]\n",
        "  sample = x_test_errors[index].reshape(28, 28)\n",
        "  y_t = y_true_errors[index]\n",
        "  y_p = y_perdict_classes_errors[index]\n",
        "  axis[i].imshow(sample, cmap='gray')\n",
        "  axis[i].set_title(\"Predicted label: {}\\n True label: {}\".format(y_p, y_t), fontsize = 16)"
      ],
      "metadata": {
        "colab": {
          "base_uri": "https://localhost:8080/",
          "height": 372
        },
        "id": "FCWvVRqjg6d0",
        "outputId": "0047218a-bdd2-4ea2-eda9-19a7d82dd4e8"
      },
      "execution_count": null,
      "outputs": [
        {
          "output_type": "display_data",
          "data": {
            "image/png": "[encoded data removed]",
            "text/plain": [
              "<Figure size 2160x2160 with 5 Axes>"
            ]
          },
          "metadata": {
            "needs_background": "light"
          }
        }
      ]
    },
    {
      "cell_type": "code",
      "source": [
        ""
      ],
      "metadata": {
        "id": "rPjUtXxYiD98"
      },
      "execution_count": null,
      "outputs": []
    }
  ]
}